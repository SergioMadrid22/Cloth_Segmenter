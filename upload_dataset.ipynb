{
 "cells": [
  {
   "cell_type": "code",
   "execution_count": 1,
   "metadata": {},
   "outputs": [],
   "source": [
    "import os\n",
    "import pandas as pd\n",
    "from torch.utils.data import DataLoader, Dataset\n",
    "from PIL import Image\n",
    "from tqdm import tqdm\n",
    "from transformers import SegformerForSemanticSegmentation, SegformerImageProcessor\n",
    "from datasets import Dataset, DatasetDict, Features, Value, Image\n",
    "import tempfile\n",
    "from huggingface_hub import HfApi\n"
   ]
  },
  {
   "cell_type": "code",
   "execution_count": 2,
   "metadata": {},
   "outputs": [],
   "source": [
    "def create_dataset(train_image_dir, train_mask_dir, test_image_dir):\n",
    "    # --- Train split ---\n",
    "    train_image_files = sorted([os.path.join(train_image_dir, f) for f in os.listdir(train_image_dir) if f.endswith('.jpg')])\n",
    "    train_mask_files = sorted([os.path.join(train_mask_dir, f) for f in os.listdir(train_mask_dir) if f.endswith('.png')])\n",
    "\n",
    "    assert len(train_image_files) == len(train_mask_files), \"Mismatch in number of train images and masks\"\n",
    "\n",
    "    train_ids = [os.path.splitext(os.path.basename(f))[0] for f in train_image_files]\n",
    "    train_df = pd.DataFrame({\n",
    "        \"image\": train_image_files,\n",
    "        \"mask\": train_mask_files,\n",
    "        \"ImageId\": train_ids\n",
    "    })\n",
    "\n",
    "    # --- Test split (no mask) ---\n",
    "    test_image_files = sorted([os.path.join(test_image_dir, f) for f in os.listdir(test_image_dir) if f.endswith('.jpg')])\n",
    "    test_ids = [os.path.splitext(os.path.basename(f))[0] for f in test_image_files]\n",
    "    test_df = pd.DataFrame({\n",
    "        \"image\": test_image_files,\n",
    "        \"mask\": [None] * len(test_image_files),\n",
    "        \"ImageId\": test_ids\n",
    "    })\n",
    "\n",
    "    # --- Features ---\n",
    "    features = Features({\n",
    "        \"image\": Image(decode=True),\n",
    "        \"mask\": Image(decode=True),\n",
    "        \"ImageId\": Value(\"string\"),\n",
    "    })\n",
    "\n",
    "    # Convert to Hugging Face datasets\n",
    "    train_dataset = Dataset.from_pandas(train_df, features=features)\n",
    "    test_dataset = Dataset.from_pandas(test_df, features=features)\n",
    "\n",
    "    dataset = DatasetDict({\n",
    "        \"train\": train_dataset,\n",
    "        \"test\": test_dataset\n",
    "    })\n",
    "\n",
    "    return dataset"
   ]
  },
  {
   "cell_type": "code",
   "execution_count": 3,
   "metadata": {},
   "outputs": [
    {
     "name": "stdout",
     "output_type": "stream",
     "text": [
      "DatasetDict({\n",
      "    train: Dataset({\n",
      "        features: ['image', 'mask', 'ImageId'],\n",
      "        num_rows: 45623\n",
      "    })\n",
      "    test: Dataset({\n",
      "        features: ['image', 'mask', 'ImageId'],\n",
      "        num_rows: 3200\n",
      "    })\n",
      "})\n",
      "{'image': <PIL.JpegImagePlugin.JpegImageFile image mode=RGB size=512x512 at 0x7B7B3F4F7050>, 'mask': <PIL.PngImagePlugin.PngImageFile image mode=L size=512x512 at 0x7B7A015380E0>, 'ImageId': '00000663ed1ff0c4e0132b9b9ac53f6e'}\n",
      "{'image': <PIL.JpegImagePlugin.JpegImageFile image mode=RGB size=852x1024 at 0x7B7A01566C30>, 'mask': None, 'ImageId': '003d41dd20f271d27219fe7ee6de727d'}\n"
     ]
    },
    {
     "data": {
      "application/vnd.jupyter.widget-view+json": {
       "model_id": "9a593e57b5b246858f9a9a2cba575e02",
       "version_major": 2,
       "version_minor": 0
      },
      "text/plain": [
       "Uploading the dataset shards:   0%|          | 0/4 [00:00<?, ?it/s]"
      ]
     },
     "metadata": {},
     "output_type": "display_data"
    },
    {
     "data": {
      "application/vnd.jupyter.widget-view+json": {
       "model_id": "6e8768567abf4ee6830c3ce57fc922c3",
       "version_major": 2,
       "version_minor": 0
      },
      "text/plain": [
       "Map:   0%|          | 0/11406 [00:00<?, ? examples/s]"
      ]
     },
     "metadata": {},
     "output_type": "display_data"
    },
    {
     "data": {
      "application/vnd.jupyter.widget-view+json": {
       "model_id": "a884207fab544004915e58d746ee29b2",
       "version_major": 2,
       "version_minor": 0
      },
      "text/plain": [
       "Creating parquet from Arrow format:   0%|          | 0/115 [00:00<?, ?ba/s]"
      ]
     },
     "metadata": {},
     "output_type": "display_data"
    },
    {
     "data": {
      "application/vnd.jupyter.widget-view+json": {
       "model_id": "a83d2de089e64b18b0ff3eb15b39c194",
       "version_major": 2,
       "version_minor": 0
      },
      "text/plain": [
       "Map:   0%|          | 0/11406 [00:00<?, ? examples/s]"
      ]
     },
     "metadata": {},
     "output_type": "display_data"
    },
    {
     "data": {
      "application/vnd.jupyter.widget-view+json": {
       "model_id": "a8a514d929f840a2be8221b938e47885",
       "version_major": 2,
       "version_minor": 0
      },
      "text/plain": [
       "Creating parquet from Arrow format:   0%|          | 0/115 [00:00<?, ?ba/s]"
      ]
     },
     "metadata": {},
     "output_type": "display_data"
    },
    {
     "data": {
      "application/vnd.jupyter.widget-view+json": {
       "model_id": "a38a941520484c0d90de54b6e8d03327",
       "version_major": 2,
       "version_minor": 0
      },
      "text/plain": [
       "Map:   0%|          | 0/11406 [00:00<?, ? examples/s]"
      ]
     },
     "metadata": {},
     "output_type": "display_data"
    },
    {
     "data": {
      "application/vnd.jupyter.widget-view+json": {
       "model_id": "9dd18eba55de43af87789e36f14e3963",
       "version_major": 2,
       "version_minor": 0
      },
      "text/plain": [
       "Creating parquet from Arrow format:   0%|          | 0/115 [00:00<?, ?ba/s]"
      ]
     },
     "metadata": {},
     "output_type": "display_data"
    },
    {
     "data": {
      "application/vnd.jupyter.widget-view+json": {
       "model_id": "6e3fd9503e2f40daa0d65f04e78abd15",
       "version_major": 2,
       "version_minor": 0
      },
      "text/plain": [
       "Map:   0%|          | 0/11405 [00:00<?, ? examples/s]"
      ]
     },
     "metadata": {},
     "output_type": "display_data"
    },
    {
     "data": {
      "application/vnd.jupyter.widget-view+json": {
       "model_id": "a69f087ddd18422eb3e8dafcbe4e58fb",
       "version_major": 2,
       "version_minor": 0
      },
      "text/plain": [
       "Creating parquet from Arrow format:   0%|          | 0/115 [00:00<?, ?ba/s]"
      ]
     },
     "metadata": {},
     "output_type": "display_data"
    },
    {
     "data": {
      "application/vnd.jupyter.widget-view+json": {
       "model_id": "46521455fd754e88972f9c2146fc0715",
       "version_major": 2,
       "version_minor": 0
      },
      "text/plain": [
       "Uploading the dataset shards:   0%|          | 0/1 [00:00<?, ?it/s]"
      ]
     },
     "metadata": {},
     "output_type": "display_data"
    },
    {
     "data": {
      "application/vnd.jupyter.widget-view+json": {
       "model_id": "621ca9c6257847a6b916bd7aef9d0518",
       "version_major": 2,
       "version_minor": 0
      },
      "text/plain": [
       "Map:   0%|          | 0/3200 [00:00<?, ? examples/s]"
      ]
     },
     "metadata": {},
     "output_type": "display_data"
    },
    {
     "data": {
      "application/vnd.jupyter.widget-view+json": {
       "model_id": "4c738b54ecc74c568b4c0127e0b304de",
       "version_major": 2,
       "version_minor": 0
      },
      "text/plain": [
       "Creating parquet from Arrow format:   0%|          | 0/32 [00:00<?, ?ba/s]"
      ]
     },
     "metadata": {},
     "output_type": "display_data"
    },
    {
     "name": "stderr",
     "output_type": "stream",
     "text": [
      "No files have been modified since last commit. Skipping to prevent empty commit.\n"
     ]
    },
    {
     "data": {
      "text/plain": [
       "CommitInfo(commit_url='https://huggingface.co/datasets/sergiomadrid/imaterialist/commit/93e18a8f9e0afc1544eb7912c10b76c894a16937', commit_message='Upload dataset', commit_description='', oid='93e18a8f9e0afc1544eb7912c10b76c894a16937', pr_url=None, repo_url=RepoUrl('https://huggingface.co/datasets/sergiomadrid/imaterialist', endpoint='https://huggingface.co', repo_type='dataset', repo_id='sergiomadrid/imaterialist'), pr_revision=None, pr_num=None)"
      ]
     },
     "execution_count": 3,
     "metadata": {},
     "output_type": "execute_result"
    }
   ],
   "source": [
    "train_image_dir = \"/media/sergio/6A4A30C94A3093B3/Users/sergi/Desktop/datasets/imaterialist_processed/train/images\"\n",
    "train_mask_dir = \"/media/sergio/6A4A30C94A3093B3/Users/sergi/Desktop/datasets/imaterialist_processed/train/masks\"\n",
    "test_image_dir = \"/media/sergio/6A4A30C94A3093B3/Users/sergi/Desktop/datasets/imaterialist/images/test\"\n",
    "\n",
    "dataset = create_dataset(train_image_dir, train_mask_dir, test_image_dir)\n",
    "\n",
    "# Preview\n",
    "print(dataset)\n",
    "print(dataset[\"train\"][0])\n",
    "print(dataset[\"test\"][0])  # should show 'mask': None\n",
    "\n",
    "# Push to Hub\n",
    "dataset.push_to_hub(\"sergiomadrid/imaterialist\")\n"
   ]
  }
 ],
 "metadata": {
  "kernelspec": {
   "display_name": "alc",
   "language": "python",
   "name": "python3"
  },
  "language_info": {
   "codemirror_mode": {
    "name": "ipython",
    "version": 3
   },
   "file_extension": ".py",
   "mimetype": "text/x-python",
   "name": "python",
   "nbconvert_exporter": "python",
   "pygments_lexer": "ipython3",
   "version": "3.12.3"
  }
 },
 "nbformat": 4,
 "nbformat_minor": 2
}
