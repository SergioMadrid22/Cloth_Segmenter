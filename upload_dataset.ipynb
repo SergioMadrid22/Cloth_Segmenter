{
 "cells": [
  {
   "cell_type": "code",
   "execution_count": 1,
   "metadata": {},
   "outputs": [],
   "source": [
    "import os\n",
    "import pandas as pd\n",
    "from torch.utils.data import DataLoader, Dataset\n",
    "from PIL import Image\n",
    "from tqdm import tqdm\n",
    "from transformers import SegformerForSemanticSegmentation, SegformerImageProcessor\n",
    "from datasets import Dataset, DatasetDict, Features, Value, Image\n",
    "import tempfile\n",
    "from huggingface_hub import HfApi\n"
   ]
  },
  {
   "cell_type": "code",
   "execution_count": 2,
   "metadata": {},
   "outputs": [],
   "source": [
    "def create_dataset(train_image_dir, train_mask_dir, test_image_dir):\n",
    "    # --- Train split ---\n",
    "    train_image_files = sorted([os.path.join(train_image_dir, f) for f in os.listdir(train_image_dir) if f.endswith('.jpg')])\n",
    "    train_mask_files = sorted([os.path.join(train_mask_dir, f) for f in os.listdir(train_mask_dir) if f.endswith('.png')])\n",
    "\n",
    "    assert len(train_image_files) == len(train_mask_files)\n",
    "\n",
    "    train_ids = [os.path.splitext(os.path.basename(f))[0] for f in train_image_files]\n",
    "    train_df = pd.DataFrame({\n",
    "        \"image\": train_image_files,\n",
    "        \"mask\": train_mask_files,\n",
    "        \"ImageId\": train_ids\n",
    "    })\n",
    "\n",
    "    # --- Test split (no mask) ---\n",
    "    test_image_files = sorted([os.path.join(test_image_dir, f) for f in os.listdir(test_image_dir) if f.endswith('.jpg')])\n",
    "    test_ids = [os.path.splitext(os.path.basename(f))[0] for f in test_image_files]\n",
    "    test_df = pd.DataFrame({\n",
    "        \"image\": test_image_files,\n",
    "        \"mask\": [None] * len(test_image_files),\n",
    "        \"ImageId\": test_ids\n",
    "    })\n",
    "\n",
    "    # --- Features ---\n",
    "    features = Features({\n",
    "        \"image\": Image(decode=True),\n",
    "        \"mask\": Image(decode=True),\n",
    "        \"ImageId\": Value(\"string\"),\n",
    "    })\n",
    "\n",
    "    # Convert to Hugging Face datasets\n",
    "    train_dataset = Dataset.from_pandas(train_df, features=features)\n",
    "    test_dataset = Dataset.from_pandas(test_df, features=features)\n",
    "\n",
    "    dataset = DatasetDict({\n",
    "        \"train\": train_dataset,\n",
    "        \"test\": test_dataset\n",
    "    })\n",
    "\n",
    "    return dataset"
   ]
  },
  {
   "cell_type": "code",
   "execution_count": 4,
   "metadata": {},
   "outputs": [
    {
     "name": "stdout",
     "output_type": "stream",
     "text": [
      "DatasetDict({\n",
      "    train: Dataset({\n",
      "        features: ['image', 'mask', 'ImageId'],\n",
      "        num_rows: 45623\n",
      "    })\n",
      "    test: Dataset({\n",
      "        features: ['image', 'mask', 'ImageId'],\n",
      "        num_rows: 3200\n",
      "    })\n",
      "})\n",
      "{'image': <PIL.JpegImagePlugin.JpegImageFile image mode=RGB size=512x512 at 0x726BB7D6F290>, 'mask': <PIL.PngImagePlugin.PngImageFile image mode=L size=512x512 at 0x726BB7D6EEA0>, 'ImageId': '00000663ed1ff0c4e0132b9b9ac53f6e'}\n",
      "{'image': <PIL.JpegImagePlugin.JpegImageFile image mode=RGB size=852x1024 at 0x726BB7D6CD40>, 'mask': None, 'ImageId': '003d41dd20f271d27219fe7ee6de727d'}\n"
     ]
    },
    {
     "data": {
      "application/vnd.jupyter.widget-view+json": {
       "model_id": "af3d9c5b5ca24b3390d2cb9941e26b85",
       "version_major": 2,
       "version_minor": 0
      },
      "text/plain": [
       "Uploading the dataset shards:   0%|          | 0/4 [00:00<?, ?it/s]"
      ]
     },
     "metadata": {},
     "output_type": "display_data"
    },
    {
     "data": {
      "application/vnd.jupyter.widget-view+json": {
       "model_id": "1b8c0cb8da4f40718e3e62f8e3a9793d",
       "version_major": 2,
       "version_minor": 0
      },
      "text/plain": [
       "Map:   0%|          | 0/11406 [00:00<?, ? examples/s]"
      ]
     },
     "metadata": {},
     "output_type": "display_data"
    },
    {
     "data": {
      "application/vnd.jupyter.widget-view+json": {
       "model_id": "9acc8570f1c24688a89369f9371f7048",
       "version_major": 2,
       "version_minor": 0
      },
      "text/plain": [
       "Creating parquet from Arrow format:   0%|          | 0/115 [00:00<?, ?ba/s]"
      ]
     },
     "metadata": {},
     "output_type": "display_data"
    },
    {
     "data": {
      "application/vnd.jupyter.widget-view+json": {
       "model_id": "45e09eb3b17148bda16b82f040c5aad9",
       "version_major": 2,
       "version_minor": 0
      },
      "text/plain": [
       "Map:   0%|          | 0/11406 [00:00<?, ? examples/s]"
      ]
     },
     "metadata": {},
     "output_type": "display_data"
    },
    {
     "data": {
      "application/vnd.jupyter.widget-view+json": {
       "model_id": "8db635a235684333bc47416e36f361b9",
       "version_major": 2,
       "version_minor": 0
      },
      "text/plain": [
       "Creating parquet from Arrow format:   0%|          | 0/115 [00:00<?, ?ba/s]"
      ]
     },
     "metadata": {},
     "output_type": "display_data"
    },
    {
     "data": {
      "application/vnd.jupyter.widget-view+json": {
       "model_id": "96c181983fdf4db0bb2dca3bb41e636d",
       "version_major": 2,
       "version_minor": 0
      },
      "text/plain": [
       "Map:   0%|          | 0/11406 [00:00<?, ? examples/s]"
      ]
     },
     "metadata": {},
     "output_type": "display_data"
    },
    {
     "data": {
      "application/vnd.jupyter.widget-view+json": {
       "model_id": "85219173b8de43fa8f6222d6ae2086c0",
       "version_major": 2,
       "version_minor": 0
      },
      "text/plain": [
       "Creating parquet from Arrow format:   0%|          | 0/115 [00:00<?, ?ba/s]"
      ]
     },
     "metadata": {},
     "output_type": "display_data"
    },
    {
     "data": {
      "application/vnd.jupyter.widget-view+json": {
       "model_id": "9f89a90379754254af2c1d7a861d4d00",
       "version_major": 2,
       "version_minor": 0
      },
      "text/plain": [
       "Map:   0%|          | 0/11405 [00:00<?, ? examples/s]"
      ]
     },
     "metadata": {},
     "output_type": "display_data"
    },
    {
     "data": {
      "application/vnd.jupyter.widget-view+json": {
       "model_id": "640173f1586a4ff1a472f335093aaf9a",
       "version_major": 2,
       "version_minor": 0
      },
      "text/plain": [
       "Creating parquet from Arrow format:   0%|          | 0/115 [00:00<?, ?ba/s]"
      ]
     },
     "metadata": {},
     "output_type": "display_data"
    },
    {
     "data": {
      "application/vnd.jupyter.widget-view+json": {
       "model_id": "1fdaf8fda2524883a94b71876a42a8f1",
       "version_major": 2,
       "version_minor": 0
      },
      "text/plain": [
       "Uploading the dataset shards:   0%|          | 0/1 [00:00<?, ?it/s]"
      ]
     },
     "metadata": {},
     "output_type": "display_data"
    },
    {
     "data": {
      "application/vnd.jupyter.widget-view+json": {
       "model_id": "d3dca74806f34fc58809778cec0e96ea",
       "version_major": 2,
       "version_minor": 0
      },
      "text/plain": [
       "Map:   0%|          | 0/3200 [00:00<?, ? examples/s]"
      ]
     },
     "metadata": {},
     "output_type": "display_data"
    },
    {
     "data": {
      "application/vnd.jupyter.widget-view+json": {
       "model_id": "a42bba35d5f3412ab6ad6e9a191d49c0",
       "version_major": 2,
       "version_minor": 0
      },
      "text/plain": [
       "Creating parquet from Arrow format:   0%|          | 0/32 [00:00<?, ?ba/s]"
      ]
     },
     "metadata": {},
     "output_type": "display_data"
    },
    {
     "data": {
      "application/vnd.jupyter.widget-view+json": {
       "model_id": "f4d6c5fc5f5d437995cba14087f5fadf",
       "version_major": 2,
       "version_minor": 0
      },
      "text/plain": [
       "README.md:   0%|          | 0.00/463 [00:00<?, ?B/s]"
      ]
     },
     "metadata": {},
     "output_type": "display_data"
    },
    {
     "data": {
      "text/plain": [
       "CommitInfo(commit_url='https://huggingface.co/datasets/sergiomadrid/imaterialist/commit/85a220d0a0e10dfb8b20c141f775be4f03e23c41', commit_message='Upload dataset', commit_description='', oid='85a220d0a0e10dfb8b20c141f775be4f03e23c41', pr_url=None, repo_url=RepoUrl('https://huggingface.co/datasets/sergiomadrid/imaterialist', endpoint='https://huggingface.co', repo_type='dataset', repo_id='sergiomadrid/imaterialist'), pr_revision=None, pr_num=None)"
      ]
     },
     "execution_count": 4,
     "metadata": {},
     "output_type": "execute_result"
    }
   ],
   "source": [
    "train_image_dir = \"/home/sergio/datasets/imaterialist_processed/images\"\n",
    "train_mask_dir = \"/home/sergio/datasets/imaterialist_processed/masks\"\n",
    "test_image_dir = \"/media/sergio/6A4A30C94A3093B3/Users/sergi/Desktop/datasets/imaterialist/images/test\"\n",
    "\n",
    "dataset = create_dataset(train_image_dir, train_mask_dir, test_image_dir)\n",
    "\n",
    "# Preview\n",
    "print(dataset)\n",
    "print(dataset[\"train\"][0])\n",
    "print(dataset[\"test\"][0])  # should show 'mask': None\n",
    "\n",
    "# Push to Hub\n",
    "dataset.push_to_hub(\"sergiomadrid/imaterialist\")\n"
   ]
  },
  {
   "cell_type": "code",
   "execution_count": null,
   "metadata": {},
   "outputs": [],
   "source": []
  }
 ],
 "metadata": {
  "kernelspec": {
   "display_name": "alc",
   "language": "python",
   "name": "python3"
  },
  "language_info": {
   "codemirror_mode": {
    "name": "ipython",
    "version": 3
   },
   "file_extension": ".py",
   "mimetype": "text/x-python",
   "name": "python",
   "nbconvert_exporter": "python",
   "pygments_lexer": "ipython3",
   "version": "3.12.3"
  }
 },
 "nbformat": 4,
 "nbformat_minor": 2
}
