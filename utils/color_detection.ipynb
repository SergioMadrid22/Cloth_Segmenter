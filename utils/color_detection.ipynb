{
 "cells": [
  {
   "cell_type": "code",
   "execution_count": 1,
   "id": "effb7324",
   "metadata": {},
   "outputs": [],
   "source": [
    "from PIL import Image\n",
    "import numpy as np\n",
    "from sklearn.cluster import KMeans\n",
    "import matplotlib.pyplot as plt\n",
    "from collections import Counter"
   ]
  },
  {
   "cell_type": "code",
   "execution_count": 2,
   "id": "4da5a8c5",
   "metadata": {},
   "outputs": [],
   "source": [
    "def extract_dominant_colors(image_path, num_colors=3, resize=True):\n",
    "    # Load image\n",
    "    image = Image.open(image_path).convert(\"RGBA\")\n",
    "    np_image = np.array(image)\n",
    "\n",
    "    # Remove transparent background\n",
    "    mask = np_image[:, :, 3] > 0\n",
    "    pixels = np_image[:, :, :3][mask]  # Only RGB, skip alpha\n",
    "\n",
    "    # Optional: resize for faster clustering\n",
    "    if resize and len(pixels) > 10000:\n",
    "        pixels = pixels[np.random.choice(len(pixels), 10000, replace=False)]\n",
    "\n",
    "    # Run KMeans\n",
    "    kmeans = KMeans(n_clusters=num_colors, random_state=42)\n",
    "    kmeans.fit(pixels)\n",
    "    colors = kmeans.cluster_centers_.astype(int)\n",
    "\n",
    "    # Sort by frequency\n",
    "    labels = kmeans.labels_\n",
    "    counts = Counter(labels)\n",
    "    sorted_colors = [colors[i] for i in sorted(counts, key=counts.get, reverse=True)]\n",
    "\n",
    "    return sorted_colors  # List of [R, G, B] values\n"
   ]
  },
  {
   "cell_type": "code",
   "execution_count": 3,
   "id": "e5ba9693",
   "metadata": {},
   "outputs": [],
   "source": [
    "def plot_colors(colors):\n",
    "    plt.figure(figsize=(8, 2))\n",
    "    for i, color in enumerate(colors):\n",
    "        r, g, b = color\n",
    "        hex_color = \"#{:02x}{:02x}{:02x}\".format(r, g, b)\n",
    "        plt.fill_between([i, i+1], 0, 1, color=hex_color)\n",
    "        plt.text(i + 0.5, -0.2, hex_color, ha=\"center\", va=\"top\", fontsize=9)\n",
    "    plt.xlim(0, len(colors))\n",
    "    plt.axis('off')\n",
    "    plt.title(\"Dominant Colors\")\n",
    "    plt.show()"
   ]
  },
  {
   "cell_type": "code",
   "execution_count": 4,
   "id": "aadb6752",
   "metadata": {},
   "outputs": [
    {
     "data": {
      "image/png": "[encoded data removed]",
      "text/plain": [
       "<Figure size 800x200 with 1 Axes>"
      ]
     },
     "metadata": {},
     "output_type": "display_data"
    }
   ],
   "source": [
    "image_path = \"segmented_objects/object_0_0.png\"\n",
    "colors = extract_dominant_colors(image_path, num_colors=5)\n",
    "plot_colors(colors)\n"
   ]
  },
  {
   "cell_type": "code",
   "execution_count": null,
   "id": "dec977b4",
   "metadata": {},
   "outputs": [],
   "source": []
  }
 ],
 "metadata": {
  "kernelspec": {
   "display_name": "alc",
   "language": "python",
   "name": "python3"
  },
  "language_info": {
   "codemirror_mode": {
    "name": "ipython",
    "version": 3
   },
   "file_extension": ".py",
   "mimetype": "text/x-python",
   "name": "python",
   "nbconvert_exporter": "python",
   "pygments_lexer": "ipython3",
   "version": "3.12.3"
  }
 },
 "nbformat": 4,
 "nbformat_minor": 5
}
