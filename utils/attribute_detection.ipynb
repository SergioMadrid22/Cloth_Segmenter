{
 "cells": [
  {
   "cell_type": "code",
   "execution_count": 9,
   "id": "5f14607f",
   "metadata": {},
   "outputs": [
    {
     "name": "stdout",
     "output_type": "stream",
     "text": [
      "Predicted style: jeans\n"
     ]
    }
   ],
   "source": [
    "from PIL import Image\n",
    "from transformers import CLIPProcessor, CLIPModel\n",
    "import torch\n",
    "\n",
    "# Load CLIP\n",
    "model = CLIPModel.from_pretrained(\"openai/clip-vit-base-patch32\")\n",
    "processor = CLIPProcessor.from_pretrained(\"openai/clip-vit-base-patch32\")\n",
    "\n",
    "# Your image (already cropped to a clothing item)\n",
    "image = Image.open(\"../gui/wardrobe_items/pants/item_0_852749.png\").convert(\"RGB\")\n",
    "\n",
    "# Define style labels\n",
    "style_labels = [\"casual\", \"formal\", \"sporty\", \"streetwear\", \"bohemian\", \"business\", \"vintage\", \"jeans\"]\n",
    "\n",
    "# Prepare input\n",
    "inputs = processor(text=style_labels, images=image, return_tensors=\"pt\", padding=True)\n",
    "\n",
    "# Get similarity logits\n",
    "with torch.no_grad():\n",
    "    outputs = model(**inputs)\n",
    "    logits_per_image = outputs.logits_per_image\n",
    "    probs = logits_per_image.softmax(dim=1)\n",
    "\n",
    "# Match style\n",
    "predicted_style = style_labels[probs.argmax()]\n",
    "print(\"Predicted style:\", predicted_style)\n"
   ]
  },
  {
   "cell_type": "code",
   "execution_count": 8,
   "id": "b9506202",
   "metadata": {},
   "outputs": [
    {
     "name": "stdout",
     "output_type": "stream",
     "text": [
      "Caption: a photo of a clothing item whose style is a jeans\n"
     ]
    }
   ],
   "source": [
    "from transformers import BlipProcessor, BlipForConditionalGeneration\n",
    "\n",
    "processor = BlipProcessor.from_pretrained(\"Salesforce/blip-image-captioning-base\")\n",
    "model = BlipForConditionalGeneration.from_pretrained(\"Salesforce/blip-image-captioning-base\")\n",
    "\n",
    "prompt = \"a photo of a clothing item whose style is \"\n",
    "image = Image.open(\"../gui/wardrobe_items/pants/item_0_852749.png\").convert(\"RGB\")\n",
    "inputs = processor(images=image, text=prompt, return_tensors=\"pt\")\n",
    "\n",
    "out = model.generate(**inputs)\n",
    "caption = processor.decode(out[0], skip_special_tokens=True)\n",
    "print(\"Caption:\", caption)\n",
    "\n",
    "# Example caption: \"A casual blue denim jacket with a relaxed fit.\"\n",
    "# Now extract \"casual\" as the style.\n"
   ]
  }
 ],
 "metadata": {
  "kernelspec": {
   "display_name": "alc",
   "language": "python",
   "name": "python3"
  },
  "language_info": {
   "codemirror_mode": {
    "name": "ipython",
    "version": 3
   },
   "file_extension": ".py",
   "mimetype": "text/x-python",
   "name": "python",
   "nbconvert_exporter": "python",
   "pygments_lexer": "ipython3",
   "version": "3.12.3"
  }
 },
 "nbformat": 4,
 "nbformat_minor": 5
}
